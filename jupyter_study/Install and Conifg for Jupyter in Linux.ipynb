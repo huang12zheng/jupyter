{
 "cells": [
  {
   "cell_type": "markdown",
   "metadata": {
    "editable": false,
    "run_control": {
     "frozen": true
    }
   },
   "source": [
    "# Install"
   ]
  },
  {
   "cell_type": "markdown",
   "metadata": {},
   "source": [
    "## install pip"
   ]
  },
  {
   "cell_type": "markdown",
   "metadata": {},
   "source": [
    "```sudo apt-get install python3\n",
    "sudo apt-get install python3-pip\n",
    "```"
   ]
  },
  {
   "cell_type": "markdown",
   "metadata": {},
   "source": [
    "## modify source"
   ]
  },
  {
   "cell_type": "markdown",
   "metadata": {},
   "source": [
    "请见参考"
   ]
  },
  {
   "cell_type": "markdown",
   "metadata": {},
   "source": [
    "## install python ext with pip including jupyter"
   ]
  },
  {
   "cell_type": "markdown",
   "metadata": {},
   "source": [
    "%load /home/hzgood/Documents/<span class=\"mark\">pip_install.bash</span>\n",
    "* * *"
   ]
  },
  {
   "cell_type": "markdown",
   "metadata": {
    "ExecuteTime": {
     "end_time": "2017-06-21T15:04:19.373891Z",
     "start_time": "2017-06-21T15:04:19.361254Z"
    }
   },
   "source": [
    "```\n",
    "%load /home/hzgood/Documents/pip_install.bash\n",
    "sudo pip3 install -U pip\n",
    "sudo pip3 install -U numpy\n",
    "sudo pip3 install -U pandas\n",
    "sudo pip3 install -U arrow\n",
    "sudo pip3 install -U scipy\n",
    "sudo pip3 install -U matplotlib\n",
    "sudo pip3 install -U virtualenv\n",
    "```\n",
    "<span class=\"mark\">sudo pip3 install -U ipython</span><br/>\n",
    "<span class=\"mark\">sudo pip3 install -U jupyter</span>\n",
    "```\n",
    "sudo pip3 install -U Latex\n",
    "sudo pip3 install -U sympy\n",
    "sudo pip3 install -U request\n",
    "```\n",
    "<span class=\"mark\">sudo pip3 install -U jupyter_contrib_nbextensions<br/>\n",
    "jupyter contrib nbextension install --user</span>\n",
    "\n",
    "```\n",
    "sudo pip3 install -U pymongo\n",
    "sudo pip3 install -U sklearn\n",
    "sudo pip3 install -U pyqt5\n",
    "sudo pip3 install -U Spyder\n",
    "```\n",
    "\n",
    "\n",
    "\n",
    "\n",
    "\n",
    "\n",
    "\n",
    "\n",
    "\n",
    "\n",
    "\n"
   ]
  },
  {
   "cell_type": "markdown",
   "metadata": {},
   "source": [
    "***"
   ]
  },
  {
   "cell_type": "markdown",
   "metadata": {},
   "source": [
    "*注：\n",
    "* 高亮的部分为Jupyter安装涉及的主要部分\n",
    "* jupyter_contrib_nbextensions 为扩展包,支持一些优秀的功能,请自行了解\n",
    "* jupyter contrib nbextension install --user 为启动扩展包的脚本, 可能需要root权限"
   ]
  },
  {
   "cell_type": "markdown",
   "metadata": {},
   "source": [
    "# Config"
   ]
  },
  {
   "cell_type": "markdown",
   "metadata": {},
   "source": [
    "## config initDir"
   ]
  },
  {
   "cell_type": "markdown",
   "metadata": {},
   "source": [
    "### 初始化Jupyter配置"
   ]
  },
  {
   "cell_type": "markdown",
   "metadata": {},
   "source": [
    "~~Sudo jupyter notebook --generate-config~~<br/>\n",
    "Sudo jupyter notebook --generate-config --allow-root"
   ]
  },
  {
   "cell_type": "markdown",
   "metadata": {},
   "source": [
    "实例如下："
   ]
  },
  {
   "cell_type": "code",
   "execution_count": 6,
   "metadata": {
    "ExecuteTime": {
     "end_time": "2017-06-21T15:53:23.711030Z",
     "start_time": "2017-06-21T15:53:22.862928Z"
    }
   },
   "outputs": [
    {
     "name": "stdout",
     "output_type": "stream",
     "text": [
      "[C 23:53:23.539 NotebookApp] Running as root is not recommended. Use --allow-root to bypass.\r\n"
     ]
    }
   ],
   "source": [
    "!jupyter notebook --generate-config"
   ]
  },
  {
   "cell_type": "code",
   "execution_count": 7,
   "metadata": {
    "ExecuteTime": {
     "end_time": "2017-06-21T15:53:23.825670Z",
     "start_time": "2017-06-21T15:53:23.713418Z"
    }
   },
   "outputs": [
    {
     "name": "stdout",
     "output_type": "stream",
     "text": [
      "/home/hzgood/.jupyter/jupyter_notebook_config.py\r\n"
     ]
    }
   ],
   "source": [
    "ls /home/hzgood/.jupyter/jupyter_notebook_config.py"
   ]
  },
  {
   "cell_type": "markdown",
   "metadata": {},
   "source": [
    "***"
   ]
  },
  {
   "cell_type": "markdown",
   "metadata": {},
   "source": [
    "### 修改配置项notebook_dir"
   ]
  },
  {
   "cell_type": "markdown",
   "metadata": {},
   "source": [
    "~~1. vi jupyter_notebook_config.py~~\n",
    "1. sudovi jupyter_notebook_config.py\n",
    "2. /notebook_dir\n",
    "3. 添加jypyter目录(记得去掉#)"
   ]
  },
  {
   "cell_type": "markdown",
   "metadata": {},
   "source": [
    "实例如下："
   ]
  },
  {
   "cell_type": "code",
   "execution_count": 8,
   "metadata": {
    "ExecuteTime": {
     "end_time": "2017-06-21T15:53:23.946334Z",
     "start_time": "2017-06-21T15:53:23.829165Z"
    },
    "scrolled": true
   },
   "outputs": [
    {
     "name": "stdout",
     "output_type": "stream",
     "text": [
      "c.NotebookApp.notebook_dir = '/home/hzgood/jupyter'\r\n"
     ]
    }
   ],
   "source": [
    "!cat /home/hzgood/.jupyter/jupyter_notebook_config.py|grep notebook_dir"
   ]
  },
  {
   "cell_type": "markdown",
   "metadata": {},
   "source": [
    "* 参考："
   ]
  },
  {
   "cell_type": "markdown",
   "metadata": {},
   "source": [
    "### 变量的完美显示"
   ]
  },
  {
   "cell_type": "markdown",
   "metadata": {},
   "source": [
    "* [Jupyter Notebook的27个窍门，技巧和快捷键](https://www.ishuo.cn/doc/kbrtriqf.html)"
   ]
  },
  {
   "cell_type": "markdown",
   "metadata": {},
   "source": [
    "你可以通过修改内核选项ast_note_interactivity，使得Jupyter对独占一行的所有变量或者语句都自动显示"
   ]
  },
  {
   "cell_type": "code",
   "execution_count": 1,
   "metadata": {
    "ExecuteTime": {
     "end_time": "2017-06-22T10:18:06.224327Z",
     "start_time": "2017-06-22T10:18:06.216223Z"
    },
    "collapsed": true
   },
   "outputs": [],
   "source": [
    "from IPython.core.interactiveshell import InteractiveShell\n",
    "InteractiveShell.ast_node_interactivity = \"all\""
   ]
  },
  {
   "cell_type": "markdown",
   "metadata": {},
   "source": [
    "* 或者下者这种长久的方法"
   ]
  },
  {
   "cell_type": "markdown",
   "metadata": {},
   "source": [
    "```\n",
    "用下面的几行简单的命令创建文件~/.ipython/profile_default/ipython_config.py即可实现：\n",
    "c = get_config()\n",
    "# Run all nodes interactively\n",
    "c.InteractiveShell.ast_node_interactivity = \"all\" #P147\n",
    "```"
   ]
  },
  {
   "cell_type": "code",
   "execution_count": 78,
   "metadata": {
    "ExecuteTime": {
     "end_time": "2017-06-22T11:35:42.802378Z",
     "start_time": "2017-06-22T11:35:42.675096Z"
    }
   },
   "outputs": [
    {
     "name": "stdout",
     "output_type": "stream",
     "text": [
      "147:#c.InteractiveShell.ast_node_interactivity = 'last_expr'\r\n",
      "148:c.InteractiveShell.ast_node_interactivity = 'all'\r\n"
     ]
    }
   ],
   "source": [
    "#!cat /home/hzgood/.ipython/profile_default/ipython_config.py | grep -in interactiv\n",
    "!cat /home/hzgood/.ipython/profile_default/ipython_config.py | grep -in interactivity"
   ]
  },
  {
   "cell_type": "code",
   "execution_count": 77,
   "metadata": {
    "ExecuteTime": {
     "end_time": "2017-06-22T11:35:41.465452Z",
     "start_time": "2017-06-22T11:35:41.397102Z"
    }
   },
   "outputs": [
    {
     "name": "stdout",
     "output_type": "stream",
     "text": [
      "c.InteractiveShell.ast_node_interactivity = 'all'\n"
     ]
    }
   ],
   "source": [
    "%%bash\n",
    "filepath='/home/hzgood/.ipython/profile_default/ipython_config.py'\n",
    "flag=`sudo grep \"interactivity = 'all\" \"$filepath\"`\n",
    "echo $flag\n",
    "#[ \"`sudo grep 'interactivity = \\'last_expr\\' $filepath`\" == \"\" ]&&echo 1\n",
    "#[ \"$flag\" == \"\" ]&&echo 1\n",
    "#sed -i \"/b/a\\d\" a.txt b之后加上d\n",
    "#sed -i \"/interactivity = 'last_expr'/a\\interactivity = 'all'\" \"$filepath\" \n",
    "[ \"$flag\" == \"\" ]&&sed -i \"/interactivity = 'last_expr'/a\\c.InteractiveShell.ast_node_interactivity = 'all'\" \"$filepath\" "
   ]
  },
  {
   "cell_type": "markdown",
   "metadata": {},
   "source": [
    "* 上面的代码是往filepath文件里写入“c.InteractiveShell.ast_node_interactivity = 'all'”"
   ]
  },
  {
   "cell_type": "markdown",
   "metadata": {},
   "source": [
    "* 下面的是调试代码"
   ]
  },
  {
   "cell_type": "markdown",
   "metadata": {
    "ExecuteTime": {
     "end_time": "2017-06-22T10:55:43.125482Z",
     "start_time": "2017-06-22T10:55:43.106020Z"
    }
   },
   "source": [
    "%%bash\n",
    "filepath='/home/hzgood/.ipython/profile_default/ipython_config.py'\n",
    "echo \"sudo grep 'interactivity = ''last_expr''' $filepath\""
   ]
  },
  {
   "cell_type": "markdown",
   "metadata": {
    "ExecuteTime": {
     "end_time": "2017-06-22T11:04:42.433920Z",
     "start_time": "2017-06-22T11:04:42.366775Z"
    }
   },
   "source": [
    "%%bash\n",
    "sudo grep \"interactivity = 'last_expr\" /home/hzgood/.ipython/profile_default/ipython_config.py"
   ]
  },
  {
   "cell_type": "markdown",
   "metadata": {},
   "source": [
    "* 注 /home/hzgood/.ipython/profile_default\n",
    "* ipython_config.py 可以通过命令创建:ipython profile create"
   ]
  },
  {
   "cell_type": "code",
   "execution_count": 5,
   "metadata": {
    "ExecuteTime": {
     "end_time": "2017-06-22T10:28:19.726344Z",
     "start_time": "2017-06-22T10:28:18.409438Z"
    }
   },
   "outputs": [
    {
     "name": "stdout",
     "output_type": "stream",
     "text": [
      "[ProfileCreate] Generating default config file: '/home/hzgood/.ipython/profile_default/ipython_config.py'\n",
      "[ProfileCreate] Generating default config file: '/home/hzgood/.ipython/profile_default/ipython_kernel_config.py'\n"
     ]
    }
   ],
   "source": [
    "!ipython profile create"
   ]
  },
  {
   "cell_type": "markdown",
   "metadata": {},
   "source": [
    "## 支持pdf导出"
   ]
  },
  {
   "cell_type": "markdown",
   "metadata": {},
   "source": [
    ">sudo apt-get install pandoc<br/>\n",
    "~~>sudo apt-get install texlive~~<br/>\n",
    ">sudo apt-get install texlive-xetex\n",
    "* 参考:\n",
    ">[Jupyter Notebook PDF输出的中文支持](https://www.cnblogs.com/SC-CS/p/Jupyter-PDF_Chinese_Support.html)\n",
    "* texlive 大约700M\n",
    "* xetex   大约500M\n",
    "* 注:中文及换行支持不好"
   ]
  },
  {
   "cell_type": "markdown",
   "metadata": {},
   "source": [
    "[1]: dir\n",
    "[知乎--ipython notebook 如何修改一开始打开的文件夹路径？](https://www.zhihu.com/question/31600197)"
   ]
  },
  {
   "cell_type": "markdown",
   "metadata": {},
   "source": [
    "[云栖社区--Python切换pip安装源的方法详解_python](https://yq.aliyun.com/ziliao/95209)"
   ]
  }
 ],
 "metadata": {
  "kernelspec": {
   "display_name": "Python 3",
   "language": "python",
   "name": "python3"
  },
  "language_info": {
   "codemirror_mode": {
    "name": "ipython",
    "version": 3
   },
   "file_extension": ".py",
   "mimetype": "text/x-python",
   "name": "python",
   "nbconvert_exporter": "python",
   "pygments_lexer": "ipython3",
   "version": "3.5.2+"
  },
  "toc": {
   "colors": {
    "hover_highlight": "#DAA520",
    "navigate_num": "#000000",
    "navigate_text": "#333333",
    "running_highlight": "#FF0000",
    "selected_highlight": "#FFD700",
    "sidebar_border": "#EEEEEE",
    "wrapper_background": "#FFFFFF"
   },
   "moveMenuLeft": true,
   "nav_menu": {
    "height": "173px",
    "width": "252px"
   },
   "navigate_menu": true,
   "number_sections": true,
   "sideBar": true,
   "threshold": 4,
   "toc_cell": false,
   "toc_section_display": "block",
   "toc_window_display": false,
   "widenNotebook": false
  }
 },
 "nbformat": 4,
 "nbformat_minor": 2
}
