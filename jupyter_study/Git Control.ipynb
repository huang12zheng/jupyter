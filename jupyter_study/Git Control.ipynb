{
 "cells": [
  {
   "cell_type": "code",
   "execution_count": 1,
   "metadata": {
    "ExecuteTime": {
     "end_time": "2017-06-22T14:11:51.691326Z",
     "start_time": "2017-06-22T14:11:51.586797Z"
    },
    "collapsed": true
   },
   "outputs": [],
   "source": [
    "dirpath='/home/hzgood/jupyter/'"
   ]
  },
  {
   "cell_type": "code",
   "execution_count": 2,
   "metadata": {
    "ExecuteTime": {
     "end_time": "2017-06-22T14:11:53.419299Z",
     "start_time": "2017-06-22T14:11:53.262742Z"
    }
   },
   "outputs": [
    {
     "name": "stdout",
     "output_type": "stream",
     "text": [
      "/home/hzgood/jupyter/\n"
     ]
    }
   ],
   "source": [
    "echo $dirpath\n",
    "cd $dirpath"
   ]
  },
  {
   "cell_type": "markdown",
   "metadata": {},
   "source": [
    "## 上传"
   ]
  },
  {
   "cell_type": "raw",
   "metadata": {
    "ExecuteTime": {
     "end_time": "2017-06-22T13:49:45.495662Z",
     "start_time": "2017-06-22T13:49:45.085526Z"
    },
    "collapsed": true
   },
   "source": [
    "filename=\"\"\n",
    "if [ \"$filename\" != \"\" ]; then\n",
    "#git add jupyter_study/\n",
    "echo \"$filename\" is done now\n",
    "git commit -m \"上传jupyter安装及配置知识点\"\n",
    "git push -u origin master\n",
    "fi"
   ]
  },
  {
   "cell_type": "code",
   "execution_count": 10,
   "metadata": {
    "ExecuteTime": {
     "end_time": "2017-06-22T13:50:09.850272Z",
     "start_time": "2017-06-22T13:50:09.439319Z"
    },
    "collapsed": true
   },
   "outputs": [],
   "source": [
    "filename=\"\"\n",
    "if [ \"$filename\" != \"\" ]; then\n",
    "#git add jupyter_study/\n",
    "echo \"$filename\" is done now\n",
    "git commit -m \"上传jupyter安装及配置知识点\"\n",
    "git push -u origin master\n",
    "fi"
   ]
  },
  {
   "cell_type": "code",
   "execution_count": null,
   "metadata": {
    "ExecuteTime": {
     "start_time": "2017-06-22T14:19:03.760Z"
    }
   },
   "outputs": [
    {
     "name": "stdout",
     "output_type": "stream",
     "text": [
      "位于分支 master\n",
      "您的分支与上游分支 'origin/master' 一致。\n",
      "尚未暂存以备提交的变更：\n",
      "\t\u001b[31m修改：     .ipynb_checkpoints/Git Control-checkpoint.ipynb\u001b[m\n",
      "\t\u001b[31m修改：     Git Control.ipynb\u001b[m\n",
      "\n",
      "未跟踪的文件:\n",
      "\t\u001b[31m../git_pull.sh\u001b[m\n",
      "\n",
      "修改尚未加入提交\n"
     ]
    }
   ],
   "source": [
    "git commit -m \"a shell about Git Control by ipython\"\n",
    "git push -u origin master"
   ]
  },
  {
   "cell_type": "markdown",
   "metadata": {},
   "source": [
    "* cohelp:"
   ]
  },
  {
   "cell_type": "code",
   "execution_count": null,
   "metadata": {
    "ExecuteTime": {
     "start_time": "2017-06-22T14:19:35.137Z"
    }
   },
   "outputs": [],
   "source": [
    "git status"
   ]
  },
  {
   "cell_type": "code",
   "execution_count": 15,
   "metadata": {
    "ExecuteTime": {
     "end_time": "2017-06-22T14:16:22.437128Z",
     "start_time": "2017-06-22T14:16:22.281099Z"
    }
   },
   "outputs": [
    {
     "name": "stdout",
     "output_type": "stream",
     "text": [
      "Git Control.ipynb  Install and Conifg for Jupyter in Linux.ipynb\n"
     ]
    }
   ],
   "source": [
    "cd ~/jupyter/jupyter_study\n",
    "ls"
   ]
  },
  {
   "cell_type": "markdown",
   "metadata": {
    "ExecuteTime": {
     "end_time": "2017-06-22T12:39:26.659131Z",
     "start_time": "2017-06-22T12:39:26.644447Z"
    }
   },
   "source": [
    "## 定时同步"
   ]
  },
  {
   "cell_type": "code",
   "execution_count": 3,
   "metadata": {
    "ExecuteTime": {
     "end_time": "2017-06-22T14:12:05.092639Z",
     "start_time": "2017-06-22T14:12:03.318584Z"
    }
   },
   "outputs": [
    {
     "name": "stdout",
     "output_type": "stream",
     "text": [
      "Already up-to-date.\n"
     ]
    }
   ],
   "source": [
    "git pull"
   ]
  },
  {
   "cell_type": "code",
   "execution_count": 6,
   "metadata": {
    "ExecuteTime": {
     "end_time": "2017-06-22T14:12:30.759749Z",
     "start_time": "2017-06-22T14:12:30.604839Z"
    },
    "collapsed": true
   },
   "outputs": [],
   "source": [
    "echo cd \"$dirpath\">git_pull.sh\n",
    "echo git pull>>git_pull.sh"
   ]
  },
  {
   "cell_type": "code",
   "execution_count": 8,
   "metadata": {
    "ExecuteTime": {
     "end_time": "2017-06-22T14:12:50.192752Z",
     "start_time": "2017-06-22T14:12:50.088517Z"
    }
   },
   "outputs": [],
   "source": [
    "#cat git_pull.sh"
   ]
  },
  {
   "cell_type": "code",
   "execution_count": null,
   "metadata": {
    "ExecuteTime": {
     "start_time": "2017-06-22T14:06:41.186Z"
    }
   },
   "outputs": [
    {
     "name": "stdout",
     "output_type": "stream",
     "text": [
      "no crontab for root - using an empty one\n"
     ]
    }
   ],
   "source": [
    "#crontab \n",
    "#*/5 * * * * git_pull.sh"
   ]
  },
  {
   "cell_type": "code",
   "execution_count": 10,
   "metadata": {
    "ExecuteTime": {
     "end_time": "2017-06-22T14:13:18.442102Z",
     "start_time": "2017-06-22T14:13:18.329468Z"
    }
   },
   "outputs": [
    {
     "name": "stdout",
     "output_type": "stream",
     "text": [
      "# Edit this file to introduce tasks to be run by cron.\n",
      "# \n",
      "# Each task to run has to be defined through a single line\n",
      "# indicating with different fields when the task will be run\n",
      "# and what command to run for the task\n",
      "# \n",
      "# To define the time you can provide concrete values for\n",
      "# minute (m), hour (h), day of month (dom), month (mon),\n",
      "# and day of week (dow) or use '*' in these fields (for 'any').# \n",
      "# Notice that tasks will be started based on the cron's system\n",
      "# daemon's notion of time and timezones.\n",
      "# \n",
      "# Output of the crontab jobs (including errors) is sent through\n",
      "# email to the user the crontab file belongs to (unless redirected).\n",
      "# \n",
      "# For example, you can run a backup of all your user accounts\n",
      "# at 5 a.m every week with:\n",
      "# 0 5 * * 1 tar -zcf /var/backups/home.tgz /home/\n",
      "# \n",
      "# For more information see the manual pages of crontab(5) and cron(8)\n",
      "# \n",
      "# m h  dom mon dow   command\n",
      "*/5 * * * * ~/jupyter/git_pull.sh\n"
     ]
    }
   ],
   "source": [
    "crontab -u hzgood -l"
   ]
  },
  {
   "cell_type": "markdown",
   "metadata": {},
   "source": [
    "## 删除回滚"
   ]
  },
  {
   "cell_type": "code",
   "execution_count": 5,
   "metadata": {
    "ExecuteTime": {
     "end_time": "2017-06-22T13:47:16.494286Z",
     "start_time": "2017-06-22T13:47:13.488945Z"
    }
   },
   "outputs": [
    {
     "name": "stdout",
     "output_type": "stream",
     "text": [
      "HEAD 现在位于 bce87d8 递交Git Control\n",
      "Already up-to-date.\n"
     ]
    }
   ],
   "source": [
    "git reset --hard FETCH_HEAD\n",
    "git pull"
   ]
  }
 ],
 "metadata": {
  "kernelspec": {
   "display_name": "Bash",
   "language": "bash",
   "name": "bash"
  },
  "language_info": {
   "codemirror_mode": "shell",
   "file_extension": ".sh",
   "mimetype": "text/x-sh",
   "name": "bash"
  },
  "toc": {
   "colors": {
    "hover_highlight": "#DAA520",
    "navigate_num": "#000000",
    "navigate_text": "#333333",
    "running_highlight": "#FF0000",
    "selected_highlight": "#FFD700",
    "sidebar_border": "#EEEEEE",
    "wrapper_background": "#FFFFFF"
   },
   "moveMenuLeft": true,
   "nav_menu": {
    "height": "12px",
    "width": "252px"
   },
   "navigate_menu": true,
   "number_sections": true,
   "sideBar": true,
   "threshold": 4,
   "toc_cell": false,
   "toc_section_display": "block",
   "toc_window_display": false,
   "widenNotebook": false
  }
 },
 "nbformat": 4,
 "nbformat_minor": 2
}
