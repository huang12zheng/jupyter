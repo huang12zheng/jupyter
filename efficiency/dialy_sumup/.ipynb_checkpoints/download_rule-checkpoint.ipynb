{
 "cells": [
  {
   "cell_type": "markdown",
   "metadata": {},
   "source": [
    "## 下载的位置的创建"
   ]
  },
  {
   "cell_type": "markdown",
   "metadata": {
    "ExecuteTime": {
     "end_time": "2017-06-23T14:25:58.384656Z",
     "start_time": "2017-06-23T14:25:58.375993Z"
    }
   },
   "source": [
    "### 工作路径修改为**下载路径 Documents**"
   ]
  },
  {
   "cell_type": "code",
   "execution_count": 58,
   "metadata": {
    "ExecuteTime": {
     "end_time": "2017-06-23T15:32:12.841439Z",
     "start_time": "2017-06-23T15:32:12.831884Z"
    },
    "collapsed": true
   },
   "outputs": [],
   "source": [
    "import os,sys\n",
    "os.chdir('/home/hzgood/Downloads/')\n",
    "retval=os.getcwd()\n",
    "#retval"
   ]
  },
  {
   "cell_type": "markdown",
   "metadata": {},
   "source": [
    "### 获取当前日期"
   ]
  },
  {
   "cell_type": "code",
   "execution_count": 33,
   "metadata": {
    "ExecuteTime": {
     "end_time": "2017-06-23T14:54:29.623385Z",
     "start_time": "2017-06-23T14:54:29.611550Z"
    }
   },
   "outputs": [
    {
     "data": {
      "text/plain": [
       "'20170623'"
      ]
     },
     "execution_count": 33,
     "metadata": {},
     "output_type": "execute_result"
    }
   ],
   "source": [
    "import time;\n",
    "nowdate=time.strftime(\"%Y%m%d\")\n",
    "nowdate"
   ]
  },
  {
   "cell_type": "markdown",
   "metadata": {},
   "source": [
    "### 创建一个文件夹，如果有当天的新文件"
   ]
  },
  {
   "cell_type": "markdown",
   "metadata": {},
   "source": [
    "\n",
    "#### 判断是否有新文件\n",
    "##### 保存新文件列表，及新文件标志"
   ]
  },
  {
   "cell_type": "code",
   "execution_count": 60,
   "metadata": {
    "ExecuteTime": {
     "end_time": "2017-06-23T15:32:44.711728Z",
     "start_time": "2017-06-23T15:32:44.659943Z"
    }
   },
   "outputs": [
    {
     "data": {
      "text/plain": [
       "True"
      ]
     },
     "execution_count": 60,
     "metadata": {},
     "output_type": "execute_result"
    },
    {
     "data": {
      "text/plain": [
       "['/home/hzgood/Downloads/textdate']"
      ]
     },
     "execution_count": 60,
     "metadata": {},
     "output_type": "execute_result"
    }
   ],
   "source": [
    "import datetime\n",
    "from datetime import  datetime\n",
    "#retval /home/hzgood/Downloads\n",
    "#文件夹列表化\n",
    "list = os.listdir(retval)\n",
    "#初始化变量： 新文件列表，是否有新文件标志\n",
    "#以后最好都用绝对路径\n",
    "newfilelist=[]\n",
    "isnew=False\n",
    "#retval\n",
    "#list\n",
    "for filename in list:\n",
    "    #获取文件集\n",
    "    if os.path.isfile(filename) :\n",
    "        #获取绝对路径\n",
    "        filepath=os.path.join(retval,filename)\n",
    "        #ctime 元时间\n",
    "        #ctime 需要转化为结构化时间\n",
    "        #ctime 1498138496.206354\n",
    "        ctime=os.stat(filename).st_ctime\n",
    "        #获取文件日期\n",
    "        filedate=datetime.fromtimestamp(ctime).strftime(\"%Y%m%d\")\n",
    "        if filedate == nowdate : \n",
    "            #print(filename)\n",
    "            newfilelist.append(filepath)\n",
    "            isnew=True\n",
    "isnew\n",
    "newfilelist"
   ]
  },
  {
   "cell_type": "markdown",
   "metadata": {},
   "source": [
    "#### 创建一个文件夹，如果有新文件\n",
    "##### 注意不可重复创建"
   ]
  },
  {
   "cell_type": "code",
   "execution_count": 64,
   "metadata": {
    "ExecuteTime": {
     "end_time": "2017-06-23T15:35:12.487806Z",
     "start_time": "2017-06-23T15:35:12.473054Z"
    },
    "collapsed": true
   },
   "outputs": [],
   "source": [
    "if isnew==True:\n",
    "    #获取将创建文件夹路径\n",
    "    testdir=os.path.join(os.getcwd(),nowdate)#os.getcwd()+'/'+nowdate\n",
    "    #判断文件夹是否存在,以防重复报错\n",
    "    isExist=os.path.exists(testdir)\n",
    "    #创建文件夹，判断不存在同名文件夹时\n",
    "    if isExist==False : os.mkdir(nowdate)"
   ]
  },
  {
   "cell_type": "code",
   "execution_count": 20,
   "metadata": {
    "ExecuteTime": {
     "end_time": "2017-06-23T14:33:41.972788Z",
     "start_time": "2017-06-23T14:33:41.967075Z"
    },
    "collapsed": true
   },
   "outputs": [],
   "source": [
    "#help(os.mkdir)"
   ]
  },
  {
   "cell_type": "code",
   "execution_count": 70,
   "metadata": {
    "ExecuteTime": {
     "end_time": "2017-06-23T15:46:09.966270Z",
     "start_time": "2017-06-23T15:46:09.939437Z"
    }
   },
   "outputs": [
    {
     "name": "stdout",
     "output_type": "stream",
     "text": [
      "20170623\n",
      "cn_windows_10_multiple_editions_x64_dvd_6848463.iso\n",
      "Install+and+Conifg+for+Jupyter+in+Linux.html\n",
      "python-3.6.1-amd64.exe\n",
      "textdate\n",
      "Win10_1703_SingleLang_Chinese(Simplified)_x64.iso\n"
     ]
    }
   ],
   "source": [
    "%%bash\n",
    "ls"
   ]
  },
  {
   "cell_type": "markdown",
   "metadata": {},
   "source": [
    "## 将下载的文件复制到对应的日期文件夹里"
   ]
  },
  {
   "cell_type": "code",
   "execution_count": 74,
   "metadata": {
    "ExecuteTime": {
     "end_time": "2017-06-23T15:50:16.391347Z",
     "start_time": "2017-06-23T15:50:16.373736Z"
    }
   },
   "outputs": [
    {
     "data": {
      "text/plain": [
       "'/home/hzgood/Downloads/20170623/textdate'"
      ]
     },
     "execution_count": 74,
     "metadata": {},
     "output_type": "execute_result"
    }
   ],
   "source": [
    "import shutil\n",
    "if isnew==True:\n",
    "    #获取将创建文件夹路径\n",
    "    testdir=os.path.join(os.getcwd(),nowdate)#os.getcwd()+'/'+nowdate\n",
    "    for filepath in newfilelist:\n",
    "        if os.path.exists(filepath):\n",
    "            #print(filepath+' '+testdir)\n",
    "            #可以是目标目录,copyfile只可以是目标文件路径\n",
    "            #shutil.copy(filepath,testdir)\n",
    "            #这里要用move\n",
    "            shutil.move(filepath,testdir)"
   ]
  },
  {
   "cell_type": "markdown",
   "metadata": {},
   "source": [
    "## 查看时，可以用tree命令"
   ]
  }
 ],
 "metadata": {
  "kernelspec": {
   "display_name": "Python 3",
   "language": "python",
   "name": "python3"
  },
  "language_info": {
   "codemirror_mode": {
    "name": "ipython",
    "version": 3
   },
   "file_extension": ".py",
   "mimetype": "text/x-python",
   "name": "python",
   "nbconvert_exporter": "python",
   "pygments_lexer": "ipython3",
   "version": "3.6.1"
  },
  "toc": {
   "colors": {
    "hover_highlight": "#DAA520",
    "navigate_num": "#000000",
    "navigate_text": "#333333",
    "running_highlight": "#FF0000",
    "selected_highlight": "#FFD700",
    "sidebar_border": "#EEEEEE",
    "wrapper_background": "#FFFFFF"
   },
   "moveMenuLeft": true,
   "nav_menu": {
    "height": "210px",
    "width": "252px"
   },
   "navigate_menu": true,
   "number_sections": true,
   "sideBar": true,
   "threshold": 4,
   "toc_cell": false,
   "toc_section_display": "block",
   "toc_window_display": true,
   "widenNotebook": false
  }
 },
 "nbformat": 4,
 "nbformat_minor": 2
}
