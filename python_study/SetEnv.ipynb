{
 "cells": [
  {
   "cell_type": "markdown",
   "metadata": {
    "ExecuteTime": {
     "end_time": "2017-06-26T13:23:13.399655Z",
     "start_time": "2017-06-26T13:23:13.381434Z"
    }
   },
   "source": [
    "``` wrong code 20170626\n",
    "%%bash\n",
    "cd /etc/\n",
    "cat environment\n",
    "\n",
    "MYHOME='~/MYHOME'\n",
    "PYTHONHOME='$MYHOME/1.tool/23脚本/3.python/'\n",
    "\n",
    "import os\n",
    "import sys\n",
    "\n",
    "#http://blog.csdn.net/ensoleilly/article/details/27870091\n",
    "#$export PYTHONPATH=$PYTHONPATH:/home/YOURSELFPATH\n",
    "#\n",
    "dirname='/home/hzgood/MYHOME/1.tool/23脚本/3.python/'\n",
    "cmdstr='export PYTHONPATH=$PYTHONPATH:'+dirname\n",
    "cmdarg='PYTHONPATH=$PYTHONPATH:'+dirname\n",
    "#http://www.jb51.net/article/55327.htm\n",
    "os.system(cmdstr)\n",
    "\n",
    "import subprocess\n",
    "subprocess.getstatusoutput('echo $HOME')\n",
    "\n",
    "\n",
    "from subprocess import Popen, PIPE \n",
    "p = subprocess.Popen(os.environ['SHELL'], stdin = PIPE, stdout = PIPE)\n",
    "```"
   ]
  },
  {
   "cell_type": "markdown",
   "metadata": {},
   "source": [
    "# 设置Ubuntu环境变量"
   ]
  },
  {
   "cell_type": "markdown",
   "metadata": {},
   "source": [
    ">* 不要添加到/etc/environment,因为这个文件不支持\\$ 替代\n",
    ">* 可以添加到/home/$user/.bashrc\n",
    ">* 填加的环境变量如下："
   ]
  },
  {
   "cell_type": "code",
   "execution_count": 5,
   "metadata": {
    "ExecuteTime": {
     "end_time": "2017-06-26T16:14:57.791166Z",
     "start_time": "2017-06-26T16:14:57.779709Z"
    },
    "collapsed": true
   },
   "outputs": [],
   "source": [
    "%%bash\n",
    "# %load /home/hzgood/MYHOME/0.init/3.etc/EnvironmentValue_Ubuntu.ev\n",
    "MYHOME=\"$HOME/MYHOME\"\n",
    "\n",
    "MYCOMMON=$MYHOME/9.commonFolder\n",
    "#MYSCRIPTPATH:$MYSCRIPTHOME%%0.bat\\\n",
    "#MYSCRIPTPATH=$MYSCRIPTHOME%%1.vbs\\\n",
    "\n",
    "MYSCRIPTHOME=\"$MYHOME/1.tool/23Script\"\n",
    "\n",
    "MYSCRIPTPATH=\"$MYSCRIPTPATH:$MYSCRIPTHOME/2.shell\"\n",
    "MYSCRIPTPATH=\"$MYSCRIPTPATH:$MYSCRIPTHOME/3.python\"\n",
    "#MYSCRIPTPATH:$MYSCRIPTHOME%%4.ahk\\\n",
    "MYTMP=$MYHOME/10.tmp\n",
    "MYTOOL=$MYHOME/1.tool\n",
    "MYWORK=$MYHOME/2.work\n",
    "PATH=\"$PATH:$MYSCRIPTPATH\"\n"
   ]
  },
  {
   "cell_type": "markdown",
   "metadata": {},
   "source": [
    ">* 修改的.bashrc脚本如下"
   ]
  },
  {
   "cell_type": "code",
   "execution_count": 2,
   "metadata": {
    "ExecuteTime": {
     "end_time": "2017-06-26T16:14:14.956468Z",
     "start_time": "2017-06-26T16:14:14.947213Z"
    }
   },
   "outputs": [
    {
     "name": "stdout",
     "output_type": "stream",
     "text": [
      "\n",
      "#source /home/hzgood/MYHOME/0.init/3.etc/EnvironmentValue_Ubuntu.ev\n"
     ]
    }
   ],
   "source": [
    "%%bash\n",
    "tail -2 /home/hzgood/.bashrc\n",
    "#/etc/skel/.bashrc"
   ]
  },
  {
   "cell_type": "markdown",
   "metadata": {},
   "source": [
    "* next commod is no needing commoning, it must be in the same one subshell"
   ]
  },
  {
   "cell_type": "code",
   "execution_count": 3,
   "metadata": {
    "ExecuteTime": {
     "end_time": "2017-06-26T16:14:15.004207Z",
     "start_time": "2017-06-26T16:14:14.995906Z"
    },
    "collapsed": true
   },
   "outputs": [],
   "source": [
    "%%bash\n",
    "source /home/hzgood/MYHOME/0.init/3.etc/EnvironmentValue_Ubuntu.ev"
   ]
  },
  {
   "cell_type": "markdown",
   "metadata": {},
   "source": [
    "# 修改将执行脚本权限为755"
   ]
  },
  {
   "cell_type": "code",
   "execution_count": 4,
   "metadata": {
    "ExecuteTime": {
     "end_time": "2017-06-26T16:14:15.084612Z",
     "start_time": "2017-06-26T16:14:15.033751Z"
    }
   },
   "outputs": [
    {
     "name": "stdout",
     "output_type": "stream",
     "text": [
      "/home/hzgood/MYHOME/1.tool/23Script\n",
      "hwllo\n"
     ]
    }
   ],
   "source": [
    "%%bash\n",
    "#本文已添加bash kernel 可不用%%bash 但jupyter是root不支持$usr\n",
    "source /home/hzgood/MYHOME/0.init/3.etc/EnvironmentValue_Ubuntu.ev #it is mustable\n",
    "echo $MYSCRIPTHOME\n",
    "cd $MYSCRIPTHOME/3.python\n",
    "\n",
    "chmod 755 aa.py\n",
    "# 测试脚本\n",
    "cd ..\n",
    "aa.py"
   ]
  }
 ],
 "metadata": {
  "kernelspec": {
   "display_name": "Python 3",
   "language": "python",
   "name": "python3"
  },
  "language_info": {
   "codemirror_mode": {
    "name": "ipython",
    "version": 3
   },
   "file_extension": ".py",
   "mimetype": "text/x-python",
   "name": "python",
   "nbconvert_exporter": "python",
   "pygments_lexer": "ipython3",
   "version": "3.5.2+"
  },
  "toc": {
   "colors": {
    "hover_highlight": "#DAA520",
    "navigate_num": "#000000",
    "navigate_text": "#333333",
    "running_highlight": "#FF0000",
    "selected_highlight": "#FFD700",
    "sidebar_border": "#EEEEEE",
    "wrapper_background": "#FFFFFF"
   },
   "moveMenuLeft": true,
   "nav_menu": {
    "height": "12px",
    "width": "252px"
   },
   "navigate_menu": true,
   "number_sections": true,
   "sideBar": true,
   "threshold": 4,
   "toc_cell": false,
   "toc_section_display": "block",
   "toc_window_display": false,
   "widenNotebook": false
  }
 },
 "nbformat": 4,
 "nbformat_minor": 2
}
